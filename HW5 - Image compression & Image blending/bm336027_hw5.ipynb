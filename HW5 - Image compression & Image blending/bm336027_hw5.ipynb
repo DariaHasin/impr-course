{
 "cells": [
  {
   "cell_type": "markdown",
   "metadata": {
    "id": "qFsf1krHEe1s"
   },
   "source": [
    "# BM 336027 - Technion - Medical Image Processing\n",
    "\n",
    "\n",
    "## Homework 5 - Image compression or image blending.\n",
    "---\n",
    "\n",
    "### <a style='color:red'> Due Date: 30.6.2021 </a>\n",
    "\n"
   ]
  },
  {
   "cell_type": "markdown",
   "metadata": {},
   "source": [
    "---\n",
    "\n",
    "### Agenda\n",
    "\n",
    "* [Exercise 1: Huffman coding](#Exercise-1)\n",
    "* [Exercise 2: Image blending](#Exercise-2)\n",
    "\n",
    "\n",
    "#### Use as many cells as you need"
   ]
  },
  {
   "cell_type": "markdown",
   "metadata": {
    "id": "QZhV6TocEe1w"
   },
   "source": [
    "### Submission Guidelines\n",
    "---\n",
    "* **No handwritten submissions.** \n",
    "* What you have to submit:\n",
    "    * You should submit this file only, with the name: `bm_hw5_id.ipynb`.\n",
    "    * No other file-types (`.py`, `.docx`...) will be accepted.\n",
    "* Submission on the course website (Moodle)."
   ]
  },
  {
   "cell_type": "code",
   "execution_count": null,
   "metadata": {
    "id": "oV-5zk6mEe1y"
   },
   "outputs": [],
   "source": [
    "# imports you will need\n",
    "import matplotlib.pyplot as plt\n",
    "import numpy as np\n",
    "from skimage.data import camera\n",
    "from typing import Tuple, List, Iterable\n",
    "from skimage.filters import gaussian\n",
    "from skimage.transform import resize\n",
    "%matplotlib inline"
   ]
  },
  {
   "cell_type": "markdown",
   "metadata": {},
   "source": [
    "---"
   ]
  },
  {
   "cell_type": "markdown",
   "metadata": {},
   "source": [
    "### **Assignment Instructions**\n",
    "**In this assignment, you are allowed to use the imported functions, basic numpy its sub modules functions, matplotlib functions, and functions you implemented in other sections of the exercises (unless otherwise instructed)**"
   ]
  },
  {
   "cell_type": "markdown",
   "metadata": {},
   "source": [
    "---"
   ]
  },
  {
   "cell_type": "markdown",
   "metadata": {
    "id": "r3ak5FPMcOJE"
   },
   "source": [
    "###  Exercise 1\n",
    "\n",
    "\n"
   ]
  },
  {
   "cell_type": "markdown",
   "metadata": {
    "id": "3n4b6v7di1DV"
   },
   "source": [
    "In this exercise, you will Implement the Huffman coding for image compression.<br>\n",
    "For the simplification, we will flatten a given image and assume that the shape of the image is known. "
   ]
  },
  {
   "cell_type": "markdown",
   "metadata": {},
   "source": [
    "1. Implement the function `symbol_prob` that receives a flattened image and returns a dictionary of symbols (key) and their probability (value).\n",
    "Write a description of your function and explain its inputs and output."
   ]
  },
  {
   "cell_type": "code",
   "execution_count": null,
   "metadata": {},
   "outputs": [],
   "source": [
    "def symbol_prob(img: np.ndarray) -> dict:\n",
    "    '''\n",
    "    The function receives a flattened image and returns a dictionary of symbols and their probability.\n",
    "    \n",
    "    :param img: numpy array of a flattened image\n",
    "    :return dict_probs: dictionary of symbols (keys) and their probability (values)\n",
    "    '''\n",
    "    # ====== YOUR CODE: ======\n",
    "    img_unique = np.unique(img)\n",
    "    all_count = len(img)\n",
    "    dict_probs = {}\n",
    "    \n",
    "    for value in img_unique:\n",
    "        value_count = np.count_nonzero(img==value)\n",
    "        prob_value = value_count/all_count\n",
    "        dict_probs[value] = prob_value\n",
    "            \n",
    "    # ========================     \n",
    "    return dict_probs\n"
   ]
  },
  {
   "cell_type": "markdown",
   "metadata": {},
   "source": [
    "2. Implement the function `bulid_tree` that receives a dictionary of the symbols and their probabilities and returns a nested list of the image values representing the huffman tree. For example, given the dictionary: {0: 0.2, 1: 0.1, 2: 0.1, 3: 0.4, 4: 0.2} the tree should be [[0, 4], [[1, 2], 3]]. Write a description of your function and explain its inputs and output."
   ]
  },
  {
   "cell_type": "code",
   "execution_count": null,
   "metadata": {},
   "outputs": [],
   "source": [
    "def bulid_tree(dict_prob: dict) -> list:\n",
    "    '''\n",
    "    The function receives a dictionary of symbols and their probabilities and returns \n",
    "    the huffman tree.\n",
    "    \n",
    "    :param dict_prob: dictionary of symbols and their probabilities\n",
    "    :return tree: nested list of the image values representing the huffman tree\n",
    "    '''\n",
    "    # ====== YOUR CODE: ======\n",
    "    tree = []\n",
    "    sorted_values = np.sort(dict_prob.values)\n",
    "    \n",
    "    for value in dict_prob.values:\n",
    "        if value not in values:\n",
    "            values.append(value)\n",
    "            tree.append([key for key, temp_value in dict_prob.items if temp_value==value])\n",
    "            \n",
    "    # ========================  \n",
    "    return tree\n"
   ]
  },
  {
   "cell_type": "markdown",
   "metadata": {},
   "source": [
    "3. Implement the function `huffman code` that receives the huffman tree and returns a dictionary of the symbols and their huffman coding (a binary string). <br> If needed, you may add an additional input to the function. \n",
    "\n",
    "    Optional guide: Assign an empty string to the root and then recursively assign 1 for the right branch and  0 for the left branch.<br>\n",
    "    \n",
    "    Write a description of your function and explain its inputs and output."
   ]
  },
  {
   "cell_type": "code",
   "execution_count": null,
   "metadata": {},
   "outputs": [],
   "source": [
    "def huffman_code(huffman_tree: list) -> dict:\n",
    "    '''\n",
    "    Add your description and complete the inputs (params) and output (return).\n",
    "    \n",
    "    :param huffman_tree: \n",
    "    :return dict_code:\n",
    "    '''\n",
    "    # ====== YOUR CODE: ======\n",
    "\n",
    "    # ========================         \n",
    "        return dict_code"
   ]
  },
  {
   "cell_type": "markdown",
   "metadata": {},
   "source": [
    "4. Implement the function `huffman_encode` that receives the huffman code and the flatten image and returns the encoded image. \n",
    " Write a description of your function and explain its inputs and output."
   ]
  },
  {
   "cell_type": "code",
   "execution_count": null,
   "metadata": {},
   "outputs": [],
   "source": [
    "def huffman_encode(code: dict, img: np.ndarray) -> list: \n",
    "    '''\n",
    "    Add your description and complete the inputs (params) and output (return).\n",
    "    \n",
    "    :param code: \n",
    "    :params img:\n",
    "    :return encoded_img:\n",
    "    '''\n",
    "    # ====== YOUR CODE: ======\n",
    "\n",
    "    # ========================     \n",
    "    return encoded_img"
   ]
  },
  {
   "cell_type": "markdown",
   "metadata": {},
   "source": [
    "5. Let's compress an image using your huffman coding.\n",
    "Load the image camera of skimage (that was imported earlier) and flatten it.\n",
    "Encode the flattened image using your functions.  "
   ]
  },
  {
   "cell_type": "code",
   "execution_count": null,
   "metadata": {},
   "outputs": [],
   "source": [
    "# ====== YOUR CODE: ======\n",
    "\n",
    "\n",
    "# ========================"
   ]
  },
  {
   "cell_type": "markdown",
   "metadata": {},
   "source": [
    "6. Now when we have the encoded image we would like to decode it. \n",
    "Implement the function `huffman_decode` that receives the encoded image and the huffman tree of the image and returns the decoded image.\n",
    "Write a description of your function and explain its inputs and output."
   ]
  },
  {
   "cell_type": "code",
   "execution_count": null,
   "metadata": {},
   "outputs": [],
   "source": [
    "def huffman_decode(encoded_img:list, tree: list) -> np.array: \n",
    "    '''\n",
    "    Add your description and complete the inputs (params) and output (return).\n",
    "    \n",
    "    :param encoded_img: \n",
    "    :params tree:\n",
    "    :return decoded_img:\n",
    "    '''\n",
    "    # ====== YOUR CODE: ======\n",
    "\n",
    "    \n",
    "    # ========================\n",
    "    return decoded_img"
   ]
  },
  {
   "cell_type": "markdown",
   "metadata": {},
   "source": [
    "7. Decode the encoded image using the above function. \n",
    "Display in one figure the original image and the decoded image, add titles. \n"
   ]
  },
  {
   "cell_type": "code",
   "execution_count": null,
   "metadata": {},
   "outputs": [],
   "source": [
    "# ====== YOUR CODE: ======\n",
    "\n",
    "# ========================"
   ]
  },
  {
   "cell_type": "markdown",
   "metadata": {
    "id": "YWOYEiw6q3Q3"
   },
   "source": [
    "8.   Compute the entropy of the image you were asked to encode.    \n",
    "Did compression rate (bits/pixel) of the encoded image reach the theoretical bound set by the entropy (counting only the bits required to encode the pixel values)?     \n",
    "If not, why?     \n",
    "What condition is required for reaching the theoretical bound?"
   ]
  },
  {
   "cell_type": "markdown",
   "metadata": {},
   "source": [
    "**Answer:**"
   ]
  },
  {
   "cell_type": "code",
   "execution_count": null,
   "metadata": {},
   "outputs": [],
   "source": []
  },
  {
   "cell_type": "markdown",
   "metadata": {},
   "source": []
  },
  {
   "cell_type": "markdown",
   "metadata": {
    "id": "kS_a75oLEe2u"
   },
   "source": [
    "###  Exercise 2 "
   ]
  },
  {
   "cell_type": "markdown",
   "metadata": {
    "id": "2FlphZbiucW7"
   },
   "source": [
    "In this exercise, you will implement and use an algorithm base on Laplacian pyramids used to stitch multiple images together. \n",
    "\n",
    "1. First, implement the `gaussian_pyramid`  function that creates a list of downscaled versions of the input image by a scale of 2. Before each down sampling, use gaussian smoothing to avoid aliasing.\n",
    "\n",
    "    Note: The smoothing is required to avoid aliasing. Do not smooth the mask so that it will remain a binary mask.\n",
    "\n",
    "    Do not use the resize functions for downscaling. You may use the 'gaussian' function from skimage.filters\n",
    "    \n",
    "    Write a description of your function and explain its inputs and output."
   ]
  },
  {
   "cell_type": "code",
   "execution_count": null,
   "metadata": {
    "executionInfo": {
     "elapsed": 5,
     "status": "ok",
     "timestamp": 1624170694021,
     "user": {
      "displayName": "yan ziselman",
      "photoUrl": "",
      "userId": "11120818451157782093"
     },
     "user_tz": -180
    },
    "id": "eSLDuRM-uc9Q"
   },
   "outputs": [],
   "source": [
    "def gaussian_pyramid(\n",
    "        img: np.ndarray,\n",
    "        num_levels: int,\n",
    "        mask: bool = False,\n",
    "        sigma: float = 0.4,\n",
    "    ) -> list:\n",
    "    '''\n",
    "    Add your description and complete the inputs (params) and output (return).\n",
    "    \n",
    "    :param img: \n",
    "    :params num_levels:\n",
    "    :params mask:\n",
    "    :params sigma:\n",
    "    :return gaussian_pyr:\n",
    "    '''\n",
    "    # ====== YOUR CODE: ======\n",
    "\n",
    "    \n",
    "    # ========================\n",
    "    return gaussian_pyr\n",
    "        \n"
   ]
  },
  {
   "cell_type": "markdown",
   "metadata": {
    "id": "hcelpTK27SFQ"
   },
   "source": [
    "2. Implement the `laplacian_pyramid` function that receives a Gaussian pyramid and computes an approximation of the Laplacian using the difference of Gaussians in every two consecutive levels of the pyramid. The top of the pyramid (lowest resolution) will remain the same.\n",
    "\n",
    "    You may use the 'resize' function from skimage.transform\n",
    "\n",
    "    Write a description of your function and explain its inputs and output.\n",
    "    \n",
    "    **Bonus (5 points):**   \n",
    "Instead of using the 'resize' function from skimage, use your image transformation functions from homework assignments 3. Only instead of rotation, perform scaling."
   ]
  },
  {
   "cell_type": "code",
   "execution_count": null,
   "metadata": {},
   "outputs": [],
   "source": [
    "def laplacian_pyramid(gaussian_pyr: list) -> list:\n",
    "    '''\n",
    "    Add your description and complete the inputs (params) and output (return).\n",
    "    \n",
    "    :param gaussian_pyr: \n",
    "    :return laplacian_pyr:\n",
    "    '''\n",
    "    # ====== YOUR CODE: ======\n",
    "\n",
    "    \n",
    "    # ======================== \n",
    "    return laplacian_pyr"
   ]
  },
  {
   "cell_type": "markdown",
   "metadata": {
    "id": "tbaxKz68CK_y"
   },
   "source": [
    "3. Implement the `blend` function that receives 3 Laplacian pyramids, those of the two images you want to stitch together and that of the mask, and blend the two pyramids according to the mask. At each level of resolution, the combined pyramid will contain the pixels in the mask (ones) from the first pyramid and the pixels from out of the mask (zeros) from the second pyramid.\n",
    "\n",
    "    Write a description of your function and explain its inputs and output."
   ]
  },
  {
   "cell_type": "code",
   "execution_count": null,
   "metadata": {
    "executionInfo": {
     "elapsed": 457,
     "status": "ok",
     "timestamp": 1624173822254,
     "user": {
      "displayName": "yan ziselman",
      "photoUrl": "",
      "userId": "11120818451157782093"
     },
     "user_tz": -180
    },
    "id": "o3ZoNqH4CLAF"
   },
   "outputs": [],
   "source": [
    "def blend(laplacian_A: list, laplacian_B: list, mask_pyr: list) -> list:\n",
    "    '''\n",
    "    Add your description and complete the inputs (params) and output (return).\n",
    "    \n",
    "    :param laplacian_A: \n",
    "    :params laplacian_B:\n",
    "    :params mask_pyr:\n",
    "    :return blended_imgs:\n",
    "    '''\n",
    "    # ====== YOUR CODE: ======\n",
    "\n",
    "\n",
    "    # ========================  \n",
    "    return blended_imgs"
   ]
  },
  {
   "cell_type": "markdown",
   "metadata": {
    "id": "BB5fVUkhD7v5"
   },
   "source": [
    "4. Implement the `reconstruct` function that receives a Laplacian pyramid and reconstructs the Gaussian pyramid that was used to construct it by upscaling the top of the pyramid (lowest resolution) and adding it to the next layer and doing the same with the first reconstructed level to reconstruct the next layer and so on for all layers.\n",
    "\n",
    "     You may use the 'resize' function from skimage.transform\n",
    "     \n",
    "     Write a description of your function and explain its inputs and output.\n",
    "  "
   ]
  },
  {
   "cell_type": "code",
   "execution_count": null,
   "metadata": {
    "executionInfo": {
     "elapsed": 2,
     "status": "ok",
     "timestamp": 1624173822254,
     "user": {
      "displayName": "yan ziselman",
      "photoUrl": "",
      "userId": "11120818451157782093"
     },
     "user_tz": -180
    },
    "id": "8JNb3MkhD7wK"
   },
   "outputs": [],
   "source": [
    "def reconstruct(laplacian_pyr: list,) -> list:\n",
    "    '''\n",
    "    Add your description and complete the inputs (params) and output (return).\n",
    "    \n",
    "    :param laplacian_pyr: \n",
    "    :return recon_pyr:\n",
    "    '''\n",
    "    # ====== YOUR CODE: ======\n",
    "\n",
    "    # ========================\n",
    "    return recon_pyr        "
   ]
  },
  {
   "cell_type": "markdown",
   "metadata": {
    "id": "cjM73vARIkly"
   },
   "source": [
    "5. Load the two images 'monalisa.jpg' and 'obama.jpg' and stitch them togather using the mask 'monabama_mask.jpg'. You are welcomed to use an image of yourself and a fitting mask if you wish as long as you'll be in the same spot in the final image.   \n",
    "Show your results for pyramids with each number of levels from 0 to 5 (0 levels will be just inserting the pixel values in the right places according to the mask).\n",
    "\n",
    "Note: normalize the images to the range [0,1], where their dtype is float. "
   ]
  },
  {
   "cell_type": "code",
   "execution_count": null,
   "metadata": {},
   "outputs": [],
   "source": [
    "# ====== YOUR CODE: ======\n",
    "\n",
    "# ========================"
   ]
  },
  {
   "cell_type": "markdown",
   "metadata": {
    "id": "VaM0kvUv1AC5"
   },
   "source": [
    "6. What is the differences between the results of stitching the two images with different numbers of levels in the pyramids?\n",
    "\n"
   ]
  },
  {
   "cell_type": "markdown",
   "metadata": {},
   "source": [
    "**Answer:**"
   ]
  },
  {
   "cell_type": "markdown",
   "metadata": {
    "id": "FZ8NuJ7a2zin"
   },
   "source": []
  },
  {
   "cell_type": "markdown",
   "metadata": {
    "id": "4RUjj_FPgku1"
   },
   "source": [
    "\n"
   ]
  }
 ],
 "metadata": {
  "colab": {
   "collapsed_sections": [
    "HPujGQ_KEe1v"
   ],
   "name": "bm336027_hmw5_.ipynb",
   "provenance": [
    {
     "file_id": "1P4bdKpETdAXN_HHpzdW-p0pkNwpbdx1b",
     "timestamp": 1614089744200
    }
   ]
  },
  "kernelspec": {
   "display_name": "Python 3",
   "language": "python",
   "name": "python3"
  },
  "language_info": {
   "codemirror_mode": {
    "name": "ipython",
    "version": 3
   },
   "file_extension": ".py",
   "mimetype": "text/x-python",
   "name": "python",
   "nbconvert_exporter": "python",
   "pygments_lexer": "ipython3",
   "version": "3.6.13"
  }
 },
 "nbformat": 4,
 "nbformat_minor": 4
}
